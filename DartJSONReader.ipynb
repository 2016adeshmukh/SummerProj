{
 "cells": [
  {
   "cell_type": "code",
   "execution_count": 9,
   "metadata": {
    "collapsed": true
   },
   "outputs": [],
   "source": [
    "import re\n",
    "import string\n",
    "import json\n",
    "from neo4j.v1 import GraphDatabase, basic_auth"
   ]
  },
  {
   "cell_type": "code",
   "execution_count": 10,
   "metadata": {},
   "outputs": [],
   "source": [
    "driver = GraphDatabase.driver(\"bolt://localhost:7687\", auth = basic_auth(\"neo4j\", \"temppassword1\"))\n",
    "session = driver.session()"
   ]
  },
  {
   "cell_type": "code",
   "execution_count": 11,
   "metadata": {
    "collapsed": true
   },
   "outputs": [],
   "source": [
    "f = open('../DartTuples.json', 'r')"
   ]
  },
  {
   "cell_type": "code",
   "execution_count": 12,
   "metadata": {},
   "outputs": [
    {
     "ename": "IndexError",
     "evalue": "list index out of range",
     "output_type": "error",
     "traceback": [
      "\u001b[0;31m---------------------------------------------------------------------------\u001b[0m",
      "\u001b[0;31mIndexError\u001b[0m                                Traceback (most recent call last)",
      "\u001b[0;32m<ipython-input-12-0b4090f90cf4>\u001b[0m in \u001b[0;36m<module>\u001b[0;34m()\u001b[0m\n\u001b[1;32m      7\u001b[0m     \u001b[0;32mif\u001b[0m \u001b[0mtempTuple\u001b[0m \u001b[0;34m==\u001b[0m \u001b[0;34m'an'\u001b[0m\u001b[0;34m:\u001b[0m\u001b[0;34m\u001b[0m\u001b[0m\n\u001b[1;32m      8\u001b[0m         \u001b[0msource\u001b[0m \u001b[0;34m=\u001b[0m \u001b[0mre\u001b[0m\u001b[0;34m.\u001b[0m\u001b[0msplit\u001b[0m\u001b[0;34m(\u001b[0m\u001b[0;34m' can be '\u001b[0m\u001b[0;34m,\u001b[0m\u001b[0mtuples\u001b[0m\u001b[0;34m[\u001b[0m\u001b[0mcounter\u001b[0m\u001b[0;34m]\u001b[0m\u001b[0;34m[\u001b[0m\u001b[0;34m'truecaseText'\u001b[0m\u001b[0;34m]\u001b[0m\u001b[0;34m)\u001b[0m\u001b[0;34m[\u001b[0m\u001b[0;36m0\u001b[0m\u001b[0;34m]\u001b[0m\u001b[0;34m\u001b[0m\u001b[0m\n\u001b[0;32m----> 9\u001b[0;31m         \u001b[0mdest\u001b[0m \u001b[0;34m=\u001b[0m \u001b[0mre\u001b[0m\u001b[0;34m.\u001b[0m\u001b[0msplit\u001b[0m\u001b[0;34m(\u001b[0m\u001b[0;34m' can be '\u001b[0m\u001b[0;34m,\u001b[0m\u001b[0mtuples\u001b[0m\u001b[0;34m[\u001b[0m\u001b[0mcounter\u001b[0m\u001b[0;34m]\u001b[0m\u001b[0;34m[\u001b[0m\u001b[0;34m'truecaseText'\u001b[0m\u001b[0;34m]\u001b[0m\u001b[0;34m)\u001b[0m\u001b[0;34m[\u001b[0m\u001b[0;36m1\u001b[0m\u001b[0;34m]\u001b[0m\u001b[0;34m\u001b[0m\u001b[0m\n\u001b[0m\u001b[1;32m     10\u001b[0m \u001b[0;34m\u001b[0m\u001b[0m\n\u001b[1;32m     11\u001b[0m         \u001b[0msession\u001b[0m\u001b[0;34m.\u001b[0m\u001b[0mrun\u001b[0m\u001b[0;34m(\u001b[0m\u001b[0;34m\"MERGE (a:Entity {class: {source}})\"\u001b[0m\u001b[0;34m,\u001b[0m \u001b[0;34m{\u001b[0m\u001b[0;34m\"source\"\u001b[0m\u001b[0;34m:\u001b[0m \u001b[0msource\u001b[0m\u001b[0;34m}\u001b[0m\u001b[0;34m)\u001b[0m\u001b[0;34m\u001b[0m\u001b[0m\n",
      "\u001b[0;31mIndexError\u001b[0m: list index out of range"
     ]
    }
   ],
   "source": [
    "tuples = []\n",
    "counter = 0\n",
    "for line in f:\n",
    "    tuples.append(json.loads(line))\n",
    "    tempTuple = tuples[counter]['tuple']\n",
    "    freq = tuples[counter]['freq']\n",
    "    if tempTuple == 'an':\n",
    "        source = re.split(' can be ',tuples[counter]['truecaseText'])[0]\n",
    "        dest = re.split(' can be ',tuples[counter]['truecaseText'])[1]\n",
    "        \n",
    "        session.run(\"MERGE (a:Entity {class: {source}})\", {\"source\": source})\n",
    "        session.run(\"MERGE (b:Entity {class: {dest}})\", {\"dest\":dest})\n",
    "        \n",
    "        session.run(\"MATCH (a), (b)\"\n",
    "                   +\"WHERE a.class = {source} AND b.class = {dest}\"\n",
    "                   +\"MERGE (a)-[r:CAN_BE {frequency: {freq}}]->(b)\",\n",
    "                   {\"source\": source, \"dest\": dest, \"freq\": freq})\n",
    "#         if source == alskjdflkasdf:\n",
    "#         elif source ==\n",
    "        \n",
    "#         if dest == asdlfkj:\n",
    "#             asd\n",
    "#         elif dest ==\n",
    "        \n",
    "#         merge them both\n",
    "    elif tempTuple == 'anpn':\n",
    "        source  = tuples[counter]['tokens'][1]\n",
    "        dest = tuples[counter]['tokens'][0]\n",
    "        link = tuples[counter]['tokens'][2].upper()\n",
    "        end = tuples[counter]['tokens'][3]\n",
    "        \n",
    "        session.run(\"MERGE (a:Entity {class: {source}})\", {\"source\": source})\n",
    "        session.run(\"MERGE (b:Entity {class: {dest}})\", {\"dest\": dest})\n",
    "        session.run(\"MERGE (c:Entity {class: {end}})\", {\"end\": end})\n",
    "        \n",
    "        session.run(\"MATCH (a), (b)\"\n",
    "                   +\"WHERE a.class = {source} AND b.class = {dest}\"\n",
    "                   +\"MERGE (a)-[r:CAN_BE {frequency: {freq}}]->(b)\",\n",
    "                   {\"source\": source, \"dest\": dest, \"freq\":freq})\n",
    "        session.run(\"MATCH (a), (b)\"\n",
    "                   +\"WHERE a.class = {dest} AND b.class = {end}\"\n",
    "                   +\"MERGE (a)-[r:\"+link+\" {frequency: {freq}}]->(b)\",\n",
    "                   {\"dest\": dest, \"end\":end, \"freq\": freq})\n",
    "#     elif tempTuple == 'nn':\n",
    "#         asdf\n",
    "#     elif tempTuple == 'nv':\n",
    "#         asdf\n",
    "#     elif tempTuple == 'npn':\n",
    "#         asdf\n",
    "#     elif tempTuple == 'nvn':\n",
    "#         asdf\n",
    "#     elif tempTuple == 'nvpn':\n",
    "#         asdf\n",
    "#     elif tempTuple == 'nvnpn':\n",
    "#         asdf\n",
    "#     elif tempTuple == 'qn':\n",
    "#         asdf\n",
    "#     elif tempTuple == 'vn':\n",
    "#         asdlf\n",
    "#     elif tempTuple == 'vpn':\n",
    "#         asdf\n",
    "#     elif tempTuple == 'vnpn':\n",
    "#         asdf\n",
    "    \n",
    "    counter = counter + 1"
   ]
  },
  {
   "cell_type": "code",
   "execution_count": 12,
   "metadata": {},
   "outputs": [
    {
     "name": "stdout",
     "output_type": "stream",
     "text": [
      "['Planes', 'emergency.']\n"
     ]
    }
   ],
   "source": [
    "print (re.split(' can be ',tuples[11]['truecaseText']))"
   ]
  },
  {
   "cell_type": "code",
   "execution_count": null,
   "metadata": {
    "collapsed": true
   },
   "outputs": [],
   "source": []
  }
 ],
 "metadata": {
  "kernelspec": {
   "display_name": "Python 3",
   "language": "python",
   "name": "python3"
  },
  "language_info": {
   "codemirror_mode": {
    "name": "ipython",
    "version": 3
   },
   "file_extension": ".py",
   "mimetype": "text/x-python",
   "name": "python",
   "nbconvert_exporter": "python",
   "pygments_lexer": "ipython3",
   "version": "3.5.2"
  }
 },
 "nbformat": 4,
 "nbformat_minor": 2
}
