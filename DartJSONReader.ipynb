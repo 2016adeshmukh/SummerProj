{
 "cells": [
  {
   "cell_type": "code",
   "execution_count": 27,
   "metadata": {
    "collapsed": true
   },
   "outputs": [],
   "source": [
    "import re\n",
    "import string\n",
    "import json\n",
    "from neo4j.v1 import GraphDatabase, basic_auth"
   ]
  },
  {
   "cell_type": "code",
   "execution_count": 39,
   "metadata": {},
   "outputs": [],
   "source": [
    "driver = GraphDatabase.driver(\"bolt://localhost:7687\", auth = basic_auth(\"neo4j\", \"temppassword1\"))\n",
    "session = driver.session()"
   ]
  },
  {
   "cell_type": "code",
   "execution_count": 40,
   "metadata": {
    "collapsed": true
   },
   "outputs": [],
   "source": [
    "f = open('../DartTuples.json', 'r')"
   ]
  },
  {
   "cell_type": "code",
   "execution_count": null,
   "metadata": {},
   "outputs": [],
   "source": [
    "tuples = []\n",
    "counter = 0\n",
    "for line in f:\n",
    "    tuples.append(json.loads(line))\n",
    "    tempTuple = tuples[counter]['tuple']\n",
    "    freq = tuples[counter]['freq']\n",
    "    if tempTuple == 'an':\n",
    "        if len(re.split(' can be ', tuples[counter]['truecaseText'])) == 1:\n",
    "            source = tuples[counter]['tokens'][1]\n",
    "            dest = tuples[counter]['tokens'][0]\n",
    "        else:\n",
    "            source = re.split(' can be ',tuples[counter]['truecaseText'])[0]\n",
    "            dest = re.split(' can be ',tuples[counter]['truecaseText'])[1]\n",
    "        \n",
    "        \n",
    "#         session.run(\"MERGE (a:Entity {class: {source}})\", {\"source\": source})\n",
    "#         session.run(\"MERGE (b:Entity {class: {dest}})\", {\"dest\":dest})\n",
    "        \n",
    "#         session.run(\"MATCH (a), (b)\"\n",
    "#                    +\"WHERE a.class = {source} AND b.class = {dest}\"\n",
    "#                    +\"MERGE (a)-[r:CAN_BE {frequency: {freq}}]->(b)\",\n",
    "#                    {\"source\": source, \"dest\": dest, \"freq\": freq})\n",
    "    elif tempTuple == 'anpn':\n",
    "        source  = tuples[counter]['tokens'][1]\n",
    "        dest = tuples[counter]['tokens'][0]\n",
    "        link = tuples[counter]['tokens'][2].upper()\n",
    "        end = tuples[counter]['tokens'][3]\n",
    "        \n",
    "#         session.run(\"MERGE (a:Entity {class: {source}})\", {\"source\": source})\n",
    "#         session.run(\"MERGE (b:Entity {class: {dest}})\", {\"dest\": dest})\n",
    "#         session.run(\"MERGE (c:Entity {class: {end}})\", {\"end\": end})\n",
    "        \n",
    "#         session.run(\"MATCH (a), (b)\"\n",
    "#                    +\"WHERE a.class = {source} AND b.class = {dest}\"\n",
    "#                    +\"MERGE (a)-[r:CAN_BE {frequency: {freq}}]->(b)\",\n",
    "#                    {\"source\": source, \"dest\": dest, \"freq\":freq})\n",
    "#         session.run(\"MATCH (a), (b)\"\n",
    "#                    +\"WHERE a.class = {dest} AND b.class = {end}\"\n",
    "#                    +\"MERGE (a)-[r:\"+link+\" {frequency: {freq}}]->(b)\",\n",
    "#                    {\"dest\": dest, \"end\":end, \"freq\": freq})\n",
    "#     elif tempTuple == 'nn':\n",
    "#         asdf\n",
    "    elif tempTuple == 'nv':\n",
    "        print (tuples[counter])\n",
    "#     elif tempTuple == 'npn':\n",
    "#         asdf\n",
    "#     elif tempTuple == 'nvn':\n",
    "#         asdf\n",
    "#     elif tempTuple == 'nvpn':\n",
    "#         asdf\n",
    "#     elif tempTuple == 'nvnpn':\n",
    "#         asdf\n",
    "#     elif tempTuple == 'qn':\n",
    "#         asdf\n",
    "#     elif tempTuple == 'vn':\n",
    "#         asdlf\n",
    "#     elif tempTuple == 'vpn':\n",
    "#         asdf\n",
    "#     elif tempTuple == 'vnpn':\n",
    "#         asdf\n",
    "    \n",
    "    counter = counter + 1"
   ]
  },
  {
   "cell_type": "code",
   "execution_count": 45,
   "metadata": {},
   "outputs": [
    {
     "name": "stdout",
     "output_type": "stream",
     "text": [
      "{'tokens': ['unknown', 'representative'], 'truecaseText': 'Representatives can be unknown.', 'freq': 5, 'tuple': 'an', 'text': 'representatives can be unknown.'}\n"
     ]
    }
   ],
   "source": [
    "print (tuples[12])"
   ]
  },
  {
   "cell_type": "code",
   "execution_count": null,
   "metadata": {
    "collapsed": true
   },
   "outputs": [],
   "source": []
  }
 ],
 "metadata": {
  "kernelspec": {
   "display_name": "Python 3",
   "language": "python",
   "name": "python3"
  },
  "language_info": {
   "codemirror_mode": {
    "name": "ipython",
    "version": 3
   },
   "file_extension": ".py",
   "mimetype": "text/x-python",
   "name": "python",
   "nbconvert_exporter": "python",
   "pygments_lexer": "ipython3",
   "version": "3.5.2"
  }
 },
 "nbformat": 4,
 "nbformat_minor": 2
}
