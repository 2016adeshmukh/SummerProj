{
 "cells": [
  {
   "cell_type": "code",
   "execution_count": 38,
   "metadata": {
    "collapsed": true
   },
   "outputs": [],
   "source": [
    "import spacy\n",
    "import re\n",
    "import string\n",
    "from neo4j.v1 import GraphDatabase, basic_auth"
   ]
  },
  {
   "cell_type": "code",
   "execution_count": 39,
   "metadata": {},
   "outputs": [],
   "source": [
    "nlp = spacy.load('en')\n",
    "driver = GraphDatabase.driver(\"bolt://localhost:7687\", auth = basic_auth(\"neo4j\", \"temppassword1\"))\n",
    "session = driver.session()"
   ]
  },
  {
   "cell_type": "code",
   "execution_count": 55,
   "metadata": {},
   "outputs": [],
   "source": [
    "f = open('dart-database/test.txt', 'r')"
   ]
  },
  {
   "cell_type": "code",
   "execution_count": 56,
   "metadata": {},
   "outputs": [],
   "source": [
    "for line in f:\n",
    "    spaceSplit = re.split('\\s+', line)\n",
    "    sentSplit = re.split('\\\"', line)\n",
    "    source = sentSplit[3]\n",
    "    dest = sentSplit[1]\n",
    "    sentence = sentSplit[5]\n",
    "    freq = spaceSplit[0]\n",
    "    \n",
    "    sourceDoc = nlp(string.capwords(source))\n",
    "    sourceType = sourceDoc[0].ent_type_\n",
    "    destDoc = nlp(string.capwords(dest))\n",
    "    destType = destDoc[0].ent_type_\n",
    "    \n",
    "    sourceClass = source\n",
    "    destClass = dest\n",
    "    \n",
    "    if source == \"person/place/organization\" or source == \"person/place/organisation\":\n",
    "        session.run(\"MERGE (a:PPO {class: \\\"PPO\\\"})\")\n",
    "        sourceClass = \"PPO\"\n",
    "    elif source == \"person\":\n",
    "        session.run(\"MERGE (a:PER {class: \\\"PER\\\"})\")\n",
    "        sourceClass = \"PER\"\n",
    "    elif source == \"place\":\n",
    "        session.run(\"MERGE (a:PLC {class: \\\"PLC\\\"})\")\n",
    "        sourceClass = \"PLC\"\n",
    "    elif source == \"organization\" or source == \"organisation\":\n",
    "        session.run(\"MERGE (a:ORGS {class: \\\"ORGS\\\"})\")\n",
    "        sourceClass = \"ORGS\"\n",
    "    else:\n",
    "        if sourceType != \"\":\n",
    "            session.run(\"MERGE (a: NamedEntity {class: {class}, type: {type}})\", {\"class\": source, \"type\": sourceType})\n",
    "        else:\n",
    "            session.run(\"MERGE (a: Entity {class: {src}})\", {\"src\": source})\n",
    "    \n",
    "    if dest == \"person/place/organization\" or dest == \"person/place/organisation\":\n",
    "        session.run(\"MERGE (b:PPO {class: \\\"PPO\\\"})\")\n",
    "        destClass = \"PPO\"\n",
    "    elif dest == \"person\":\n",
    "        session.run(\"MERGE (b:PER {class: \\\"PER\\\"})\")\n",
    "        destClass = \"PER\"\n",
    "    elif dest == \"place\":\n",
    "        session.run(\"MERGE (b:PLC {class: \\\"PLC\\\"})\")\n",
    "        destClass = \"PLC\"\n",
    "    elif dest == \"organization\" or dest == \"organisation\":\n",
    "        session.run(\"MERGE (b:ORGS {class: \\\"ORGS\\\"})\")\n",
    "        destClass = \"ORGS\"\n",
    "    else:\n",
    "        if destType != \"\":\n",
    "            session.run(\"MERGE (b: NamedEntity {class: {class}, type: {type}})\", {\"class\": dest, \"type\": destType})\n",
    "        else:\n",
    "            session.run(\"MERGE (b: Entity {class: {src}})\", {\"src\": dest})\n",
    "    \n",
    "    if sourceType != \"\" and destType != \"\":\n",
    "        session.run(\"MATCH (a), (b)\"\n",
    "                   +\"WHERE a.class = {sourceClass} AND a.type = {sourceType}\"\n",
    "                   +\"AND b.class = {destClass} AND b.type = {destType}\"\n",
    "                   +\"MERGE (a)-[r:CAN_BE {frequency: {freq}}]->(b)\",\n",
    "                   {\"sourceClass\": sourceClass, \"sourceType\": sourceType, \"destClass\": destClass, \"destType\": destType, \"freq\": freq})\n",
    "    elif sourceType != \"\":\n",
    "        session.run(\"MATCH (a), (b)\"\n",
    "                   +\"WHERE a.class = {sourceClass} AND a.type  = {sourceType}\"\n",
    "                   +\"AND b.class = {destClass}\"\n",
    "                   +\"MERGE (a)-[r:CAN_BE {frequency: {freq}}]->(b)\",\n",
    "                   {\"sourceClass\": sourceClass, \"sourceType\": sourceType, \"destClass\": destClass, \"freq\": freq})\n",
    "    elif destType != \"\":\n",
    "        session.run(\"MATCH (a), (b)\"\n",
    "                   +\"WHERE a.class = {sourceClass}\"\n",
    "                   +\"AND b.class = {destClass} AND b.type  = {destType}\"\n",
    "                   +\"MERGE (a)-[r:CAN_BE {frequency: {freq}}]->(b)\",\n",
    "                   {\"sourceClass\": sourceClass, \"destClass\": destClass, \"destType\": destType, \"freq\": freq})\n",
    "    else:\n",
    "        session.run(\"MATCH (a), (b)\"\n",
    "                   +\"WHERE a.class = {sourceClass} AND b.class = {destClass}\"\n",
    "                   +\"MERGE (a)-[r:CAN_BE {frequency: {freq}}]->(b)\", \n",
    "                    {\"sourceClass\": sourceClass, \"destClass\": destClass, \"freq\": freq})"
   ]
  },
  {
   "cell_type": "code",
   "execution_count": null,
   "metadata": {
    "collapsed": true
   },
   "outputs": [],
   "source": []
  }
 ],
 "metadata": {
  "kernelspec": {
   "display_name": "Python 3",
   "language": "python",
   "name": "python3"
  },
  "language_info": {
   "codemirror_mode": {
    "name": "ipython",
    "version": 3
   },
   "file_extension": ".py",
   "mimetype": "text/x-python",
   "name": "python",
   "nbconvert_exporter": "python",
   "pygments_lexer": "ipython3",
   "version": "3.5.2"
  }
 },
 "nbformat": 4,
 "nbformat_minor": 2
}
