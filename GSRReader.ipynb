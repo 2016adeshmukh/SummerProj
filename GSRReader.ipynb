{
 "cells": [
  {
   "cell_type": "code",
   "execution_count": 2,
   "metadata": {
    "collapsed": true
   },
   "outputs": [],
   "source": [
    "import json"
   ]
  },
  {
   "cell_type": "code",
   "execution_count": 3,
   "metadata": {
    "collapsed": true
   },
   "outputs": [],
   "source": [
    "gsr = []\n",
    "with open(\"../GSREvents.json\") as infile:\n",
    "    for line in infile:\n",
    "        gsr_events = json.loads(line)\n",
    "        gsr.append(gsr_events)"
   ]
  },
  {
   "cell_type": "code",
   "execution_count": 37,
   "metadata": {},
   "outputs": [
    {
     "name": "stdout",
     "output_type": "stream",
     "text": [
      "The bus route 2-A of Mejicanos municipality of San Salvador, now dawned work stoppage due to a threat received by the gangs operating in the area. Police sources said the threat was received last night demanding more money for so-called &quot;rent&quot; facing the criminal structure.\n",
      "Mejicanos\n"
     ]
    }
   ],
   "source": [
    "print (gsr[125]['description']['translated_text'])#_basis_enrichment']['tokens'])\n",
    "print(gsr[125]['description']['translated_text_basis_enrichment']['entities'][0]['expr'])"
   ]
  },
  {
   "cell_type": "code",
   "execution_count": 4,
   "metadata": {},
   "outputs": [
    {
     "name": "stdout",
     "output_type": "stream",
     "text": [
      "{'lemma': 'bus', 'POS': 'NOUN', 'end': 7, 'start': 4, 'value': 'bus'}\n",
      "{'lemma': 'route', 'POS': 'NOUN', 'end': 13, 'start': 8, 'value': 'route'}\n",
      "{'lemma': 'municipality', 'POS': 'NOUN', 'end': 43, 'start': 31, 'value': 'municipality'}\n",
      "{'lemma': 'work', 'POS': 'NOUN', 'end': 76, 'start': 72, 'value': 'work'}\n",
      "{'lemma': 'stoppage', 'POS': 'NOUN', 'end': 85, 'start': 77, 'value': 'stoppage'}\n",
      "{'lemma': 'threat', 'POS': 'NOUN', 'end': 101, 'start': 95, 'value': 'threat'}\n",
      "{'lemma': 'gang', 'POS': 'NOUN', 'end': 123, 'start': 118, 'value': 'gangs'}\n",
      "{'lemma': 'area', 'POS': 'NOUN', 'end': 145, 'start': 141, 'value': 'area'}\n",
      "{'lemma': 'police', 'POS': 'NOUN', 'end': 153, 'start': 147, 'value': 'Police'}\n",
      "{'lemma': 'source', 'POS': 'NOUN', 'end': 161, 'start': 154, 'value': 'sources'}\n",
      "{'lemma': 'threat', 'POS': 'NOUN', 'end': 177, 'start': 171, 'value': 'threat'}\n",
      "{'lemma': 'night', 'POS': 'NOUN', 'end': 201, 'start': 196, 'value': 'night'}\n",
      "{'lemma': 'money', 'POS': 'NOUN', 'end': 222, 'start': 217, 'value': 'money'}\n",
      "{'lemma': 'rent', 'POS': 'NOUN', 'end': 247, 'start': 243, 'value': 'rent'}\n",
      "{'lemma': 'structure', 'POS': 'NOUN', 'end': 283, 'start': 274, 'value': 'structure'}\n"
     ]
    }
   ],
   "source": [
    "for i in gsr[125]['description']['translated_text_basis_enrichment']['tokens']:\n",
    "    if i['POS'] == 'NOUN':\n",
    "        print (i)"
   ]
  },
  {
   "cell_type": "code",
   "execution_count": 1,
   "metadata": {},
   "outputs": [
    {
     "ename": "NameError",
     "evalue": "name 'gsr' is not defined",
     "output_type": "error",
     "traceback": [
      "\u001b[0;31m---------------------------------------------------------------------------\u001b[0m",
      "\u001b[0;31mNameError\u001b[0m                                 Traceback (most recent call last)",
      "\u001b[0;32m<ipython-input-1-4780abf2f560>\u001b[0m in \u001b[0;36m<module>\u001b[0;34m()\u001b[0m\n\u001b[0;32m----> 1\u001b[0;31m \u001b[0mprint\u001b[0m \u001b[0;34m(\u001b[0m\u001b[0mgsr\u001b[0m\u001b[0;34m[\u001b[0m\u001b[0;36m2\u001b[0m\u001b[0;34m]\u001b[0m\u001b[0;34m)\u001b[0m\u001b[0;34m\u001b[0m\u001b[0m\n\u001b[0m",
      "\u001b[0;31mNameError\u001b[0m: name 'gsr' is not defined"
     ]
    }
   ],
   "source": [
    "print (gsr[2])"
   ]
  },
  {
   "cell_type": "code",
   "execution_count": null,
   "metadata": {
    "collapsed": true
   },
   "outputs": [],
   "source": []
  }
 ],
 "metadata": {
  "kernelspec": {
   "display_name": "Python 3",
   "language": "python",
   "name": "python3"
  },
  "language_info": {
   "codemirror_mode": {
    "name": "ipython",
    "version": 3
   },
   "file_extension": ".py",
   "mimetype": "text/x-python",
   "name": "python",
   "nbconvert_exporter": "python",
   "pygments_lexer": "ipython3",
   "version": "3.5.2"
  }
 },
 "nbformat": 4,
 "nbformat_minor": 2
}
