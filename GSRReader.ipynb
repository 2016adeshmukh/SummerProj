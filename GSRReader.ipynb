{
 "cells": [
  {
   "cell_type": "code",
   "execution_count": 2,
   "metadata": {
    "collapsed": true
   },
   "outputs": [],
   "source": [
    "import json"
   ]
  },
  {
   "cell_type": "code",
   "execution_count": 3,
   "metadata": {
    "collapsed": true
   },
   "outputs": [],
   "source": [
    "gsr = []\n",
    "with open(\"../GSREvents.json\") as infile:\n",
    "    for line in infile:\n",
    "        gsr_events = json.loads(line)\n",
    "        gsr.append(gsr_events)"
   ]
  },
  {
   "cell_type": "code",
   "execution_count": 37,
   "metadata": {},
   "outputs": [
    {
     "name": "stdout",
     "output_type": "stream",
     "text": [
      "The bus route 2-A of Mejicanos municipality of San Salvador, now dawned work stoppage due to a threat received by the gangs operating in the area. Police sources said the threat was received last night demanding more money for so-called &quot;rent&quot; facing the criminal structure.\n",
      "Mejicanos\n"
     ]
    }
   ],
   "source": [
    "print (gsr[125]['description']['translated_text'])#_basis_enrichment']['tokens'])\n",
    "print(gsr[125]['description']['translated_text_basis_enrichment']['entities'][0]['expr'])"
   ]
  },
  {
   "cell_type": "code",
   "execution_count": 15,
   "metadata": {},
   "outputs": [
    {
     "name": "stdout",
     "output_type": "stream",
     "text": [
      "people\n",
      "Embassy\n",
      "attacks\n",
      "movement\n",
      "peace\n",
      "area\n"
     ]
    }
   ],
   "source": [
    "for i in gsr[123]['description']['translated_text_basis_enrichment']['tokens']:\n",
    "    if i['POS'] == \"NOUN\":\n",
    "        print (i['value'])"
   ]
  },
  {
   "cell_type": "code",
   "execution_count": 12,
   "metadata": {},
   "outputs": [
    {
     "name": "stdout",
     "output_type": "stream",
     "text": [
      "[{'neType': 'NATIONALITY', 'offset': '7:8', 'expr': 'Israeli'}, {'neType': 'LOCATION', 'offset': '10:12', 'expr': 'Mexico City'}, {'neType': 'PERSON', 'offset': '15:18', 'expr': 'Lomas de Chapultepec'}, {'neType': 'NATIONALITY', 'offset': '25:26', 'expr': 'Palestinian'}, {'neType': 'RELIGION', 'offset': '26:27', 'expr': 'Islamist'}, {'neType': 'ORGANIZATION', 'offset': '28:29', 'expr': 'Hamas'}]\n"
     ]
    }
   ],
   "source": [
    "print (gsr[123]['description']['translated_text_basis_enrichment']['entities'])"
   ]
  },
  {
   "cell_type": "code",
   "execution_count": null,
   "metadata": {
    "collapsed": true
   },
   "outputs": [],
   "source": []
  }
 ],
 "metadata": {
  "kernelspec": {
   "display_name": "Python 3",
   "language": "python",
   "name": "python3"
  },
  "language_info": {
   "codemirror_mode": {
    "name": "ipython",
    "version": 3
   },
   "file_extension": ".py",
   "mimetype": "text/x-python",
   "name": "python",
   "nbconvert_exporter": "python",
   "pygments_lexer": "ipython3",
   "version": "3.5.2"
  }
 },
 "nbformat": 4,
 "nbformat_minor": 2
}
