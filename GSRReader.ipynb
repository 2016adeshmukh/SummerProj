{
 "cells": [
  {
   "cell_type": "code",
   "execution_count": 1,
   "metadata": {
    "collapsed": true
   },
   "outputs": [],
   "source": [
    "import json"
   ]
  },
  {
   "cell_type": "code",
   "execution_count": 2,
   "metadata": {
    "collapsed": true
   },
   "outputs": [],
   "source": [
    "gsr = []\n",
    "with open(\"../GSREvents.json\") as infile:\n",
    "    for line in infile:\n",
    "        gsr_events = json.loads(line)\n",
    "        gsr.append(gsr_events)"
   ]
  },
  {
   "cell_type": "code",
   "execution_count": 37,
   "metadata": {},
   "outputs": [
    {
     "name": "stdout",
     "output_type": "stream",
     "text": [
      "The bus route 2-A of Mejicanos municipality of San Salvador, now dawned work stoppage due to a threat received by the gangs operating in the area. Police sources said the threat was received last night demanding more money for so-called &quot;rent&quot; facing the criminal structure.\n",
      "Mejicanos\n"
     ]
    }
   ],
   "source": [
    "print (gsr[125]['description']['translated_text'])#_basis_enrichment']['tokens'])\n",
    "print(gsr[125]['description']['translated_text_basis_enrichment']['entities'][0]['expr'])"
   ]
  },
  {
   "cell_type": "code",
   "execution_count": 35,
   "metadata": {},
   "outputs": [
    {
     "name": "stdout",
     "output_type": "stream",
     "text": [
      "bus\n",
      "route\n",
      "municipality\n",
      "work\n",
      "stoppage\n",
      "threat\n",
      "gangs\n",
      "area\n",
      "Police\n",
      "sources\n",
      "threat\n",
      "night\n",
      "money\n",
      "rent\n",
      "structure\n"
     ]
    }
   ],
   "source": [
    "for i in gsr[125]['description']['translated_text_basis_enrichment']['tokens']:\n",
    "    if i['POS'] == 'NOUN':\n",
    "        print (i['value'])"
   ]
  },
  {
   "cell_type": "code",
   "execution_count": null,
   "metadata": {
    "collapsed": true
   },
   "outputs": [],
   "source": []
  }
 ],
 "metadata": {
  "kernelspec": {
   "display_name": "Python 3",
   "language": "python",
   "name": "python3"
  },
  "language_info": {
   "codemirror_mode": {
    "name": "ipython",
    "version": 3
   },
   "file_extension": ".py",
   "mimetype": "text/x-python",
   "name": "python",
   "nbconvert_exporter": "python",
   "pygments_lexer": "ipython3",
   "version": "3.5.2"
  }
 },
 "nbformat": 4,
 "nbformat_minor": 2
}
