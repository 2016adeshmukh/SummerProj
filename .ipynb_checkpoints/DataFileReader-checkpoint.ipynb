{
 "cells": [
  {
   "cell_type": "code",
   "execution_count": 10,
   "metadata": {
    "collapsed": true
   },
   "outputs": [],
   "source": [
    "import json\n",
    "import string\n",
    "import re"
   ]
  },
  {
   "cell_type": "code",
   "execution_count": 30,
   "metadata": {
    "collapsed": true
   },
   "outputs": [],
   "source": [
    "f = open('../GSREvents.json', 'r')"
   ]
  },
  {
   "cell_type": "code",
   "execution_count": 31,
   "metadata": {
    "collapsed": true
   },
   "outputs": [],
   "source": [
    "#useful link\n",
    "#https://stackoverflow.com/questions/6886283/how-i-can-i-lazily-read-multiple-json-objects-from-a-file-stream-in-python"
   ]
  },
  {
   "cell_type": "code",
   "execution_count": 32,
   "metadata": {
    "collapsed": true
   },
   "outputs": [],
   "source": [
    "def stream_read_json(fn):\n",
    "    import json\n",
    "    start_pos = 0\n",
    "    with open(fn, 'r') as f:\n",
    "        while True:\n",
    "            try:\n",
    "                obj = json.load(f)\n",
    "                yield obj\n",
    "                return\n",
    "            except json.JSONDecodeError as e:\n",
    "                f.seek(start_pos)\n",
    "                json_str = f.read(e.pos)\n",
    "                obj = json.loads(json_str)\n",
    "                start_pos += e.pos\n",
    "                print (obj)\n",
    "                yield obj"
   ]
  },
  {
   "cell_type": "code",
   "execution_count": 33,
   "metadata": {},
   "outputs": [],
   "source": [
    "stream_read_json('../GSREvents.json')\n",
    "\n",
    "\n",
    "\n",
    "splitFile = [];\n",
    "counter = 0\n",
    "\n",
    "\n",
    "# for jsonline in f:\n",
    "#     splitLine = json.loads(jsonline)\n",
    "#     splitFile.extend(splitLine)\n",
    "\n",
    "\n",
    "# for line in f:\n",
    "#     if counter == 0:\n",
    "#         print (line)\n",
    "#         counter = counter + 1;\n",
    "#     splitLine = re.split('},{', line)\n",
    "#     splitFile.extend(splitLine)"
   ]
  }
 ],
 "metadata": {
  "kernelspec": {
   "display_name": "Python 3",
   "language": "python",
   "name": "python3"
  },
  "language_info": {
   "codemirror_mode": {
    "name": "ipython",
    "version": 3
   },
   "file_extension": ".py",
   "mimetype": "text/x-python",
   "name": "python",
   "nbconvert_exporter": "python",
   "pygments_lexer": "ipython3",
   "version": "3.5.2"
  }
 },
 "nbformat": 4,
 "nbformat_minor": 2
}
