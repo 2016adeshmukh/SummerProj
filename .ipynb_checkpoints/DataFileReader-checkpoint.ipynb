{
 "cells": [
  {
   "cell_type": "code",
   "execution_count": 1,
   "metadata": {},
   "outputs": [
    {
     "ename": "ImportError",
     "evalue": "No module named 'ijson'",
     "output_type": "error",
     "traceback": [
      "\u001b[0;31m---------------------------------------------------------------------------\u001b[0m",
      "\u001b[0;31mImportError\u001b[0m                               Traceback (most recent call last)",
      "\u001b[0;32m<ipython-input-1-1311c42138dc>\u001b[0m in \u001b[0;36m<module>\u001b[0;34m()\u001b[0m\n\u001b[1;32m      4\u001b[0m \u001b[0;32mfrom\u001b[0m \u001b[0mjson\u001b[0m \u001b[0;32mimport\u001b[0m \u001b[0mJSONDecoder\u001b[0m\u001b[0;34m\u001b[0m\u001b[0m\n\u001b[1;32m      5\u001b[0m \u001b[0;32mfrom\u001b[0m \u001b[0mfunctools\u001b[0m \u001b[0;32mimport\u001b[0m \u001b[0mpartial\u001b[0m\u001b[0;34m\u001b[0m\u001b[0m\n\u001b[0;32m----> 6\u001b[0;31m \u001b[0;32mimport\u001b[0m \u001b[0mijson\u001b[0m\u001b[0;34m\u001b[0m\u001b[0m\n\u001b[0m",
      "\u001b[0;31mImportError\u001b[0m: No module named 'ijson'"
     ]
    }
   ],
   "source": [
    "import json\n",
    "import string\n",
    "import re\n",
    "from json import JSONDecoder\n",
    "from functools import partial\n",
    "import ijson"
   ]
  },
  {
   "cell_type": "code",
   "execution_count": 30,
   "metadata": {
    "collapsed": true
   },
   "outputs": [],
   "source": [
    "# f = open('../GSREvents.json', 'r')"
   ]
  },
  {
   "cell_type": "code",
   "execution_count": 31,
   "metadata": {
    "collapsed": true
   },
   "outputs": [],
   "source": [
    "#useful link\n",
    "#https://stackoverflow.com/questions/6886283/how-i-can-i-lazily-read-multiple-json-objects-from-a-file-stream-in-python\n",
    "#https://stackoverflow.com/questions/21708192/how-do-i-use-the-json-module-to-read-in-one-json-object-at-a-time/21709058#21709058"
   ]
  },
  {
   "cell_type": "code",
   "execution_count": null,
   "metadata": {
    "collapsed": true
   },
   "outputs": [],
   "source": [
    "def stream_read_json(fn):\n",
    "    import json\n",
    "    splitLine = []\n",
    "    start_pos = 0\n",
    "    with open(fn, 'r') as f:\n",
    "        while True:\n",
    "            try:\n",
    "                obj = json.load(f)\n",
    "                yield obj\n",
    "                return\n",
    "            except json.JSONDecodeError as e:\n",
    "                f.seek(start_pos)\n",
    "                json_str = f.read(e.pos)\n",
    "                obj = json.loads(json_str)\n",
    "                start_pos += e.pos\n",
    "                splitLine[0] = obj\n",
    "                yield obj\n",
    "    \n",
    "    return splitLine"
   ]
  },
  {
   "cell_type": "code",
   "execution_count": 41,
   "metadata": {
    "collapsed": true
   },
   "outputs": [],
   "source": [
    "def json_parse(fileobj, decoder=JSONDecoder(), buffersize=2048):\n",
    "    buffer = ''\n",
    "    for chunk in iter(partial(fileobj.read, buffersize), ''):\n",
    "         buffer += chunk\n",
    "         while buffer:\n",
    "             try:\n",
    "                 result, index = decoder.raw_decode(buffer)\n",
    "                 yield result\n",
    "                 buffer = buffer[index:]\n",
    "             except ValueError:\n",
    "                 # Not enough data to decode, read more\n",
    "                 break"
   ]
  },
  {
   "cell_type": "code",
   "execution_count": 44,
   "metadata": {
    "collapsed": true
   },
   "outputs": [],
   "source": [
    "fileObj = []\n",
    "counter = 0\n",
    "with open('../GSREvents.json', 'r') as infh:\n",
    "    for data in json_parse(infh):\n",
    "        fileObj.extend(data)\n",
    "        counter = counter + 1\n",
    "\n",
    "for jsonline in f:\n",
    "    splitLine = json.loads(jsonline)\n",
    "    splitFile.extend(splitLine)\n",
    "\n",
    "\n",
    "# for line in f:\n",
    "#     if counter == 0:\n",
    "#         print (line)\n",
    "#         counter = counter + 1;\n",
    "#     splitLine = re.split('},{', line)\n",
    "#     splitFile.extend(splitLine)"
   ]
  },
  {
   "cell_type": "code",
   "execution_count": 48,
   "metadata": {},
   "outputs": [
    {
     "name": "stdout",
     "output_type": "stream",
     "text": [
      "['coordinates', 'downloaded_articles', 'mitreId', 'model', 'derivedFrom', 'confidenceIdProbability', 'date', 'description', 'eventDate', 'location', 'eventType', 'confidence', 'headline', 'population']\n"
     ]
    }
   ],
   "source": [
    "print (fileObj)"
   ]
  },
  {
   "cell_type": "code",
   "execution_count": null,
   "metadata": {
    "collapsed": true
   },
   "outputs": [],
   "source": []
  }
 ],
 "metadata": {
  "kernelspec": {
   "display_name": "Python 3",
   "language": "python",
   "name": "python3"
  },
  "language_info": {
   "codemirror_mode": {
    "name": "ipython",
    "version": 3
   },
   "file_extension": ".py",
   "mimetype": "text/x-python",
   "name": "python",
   "nbconvert_exporter": "python",
   "pygments_lexer": "ipython3",
   "version": "3.5.2"
  }
 },
 "nbformat": 4,
 "nbformat_minor": 2
}
