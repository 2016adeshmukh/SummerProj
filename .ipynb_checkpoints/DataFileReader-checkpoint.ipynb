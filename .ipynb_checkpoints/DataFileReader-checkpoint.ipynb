{
 "cells": [
  {
   "cell_type": "code",
   "execution_count": 39,
   "metadata": {
    "collapsed": true
   },
   "outputs": [],
   "source": [
    "import json\n",
    "import string\n",
    "import re\n",
    "from json import JSONDecoder\n",
    "from functools import partial"
   ]
  },
  {
   "cell_type": "code",
   "execution_count": 30,
   "metadata": {
    "collapsed": true
   },
   "outputs": [],
   "source": [
    "# f = open('../GSREvents.json', 'r')"
   ]
  },
  {
   "cell_type": "code",
   "execution_count": 31,
   "metadata": {
    "collapsed": true
   },
   "outputs": [],
   "source": [
    "#useful link\n",
    "#https://stackoverflow.com/questions/6886283/how-i-can-i-lazily-read-multiple-json-objects-from-a-file-stream-in-python\n",
    "#https://stackoverflow.com/questions/21708192/how-do-i-use-the-json-module-to-read-in-one-json-object-at-a-time/21709058#21709058"
   ]
  },
  {
   "cell_type": "code",
   "execution_count": null,
   "metadata": {
    "collapsed": true
   },
   "outputs": [],
   "source": [
    "def stream_read_json(fn):\n",
    "    import json\n",
    "    splitLine = []\n",
    "    start_pos = 0\n",
    "    with open(fn, 'r') as f:\n",
    "        while True:\n",
    "            try:\n",
    "                obj = json.load(f)\n",
    "                yield obj\n",
    "                return\n",
    "            except json.JSONDecodeError as e:\n",
    "                f.seek(start_pos)\n",
    "                json_str = f.read(e.pos)\n",
    "                obj = json.loads(json_str)\n",
    "                start_pos += e.pos\n",
    "                splitLine[0] = obj\n",
    "                yield obj\n",
    "    \n",
    "    return splitLine"
   ]
  },
  {
   "cell_type": "code",
   "execution_count": 37,
   "metadata": {
    "collapsed": true
   },
   "outputs": [],
   "source": [
    "def json_parse(fileobj, decoder=JSONDecoder(), buffersize=2048):\n",
    "    buffer = ''\n",
    "    for chunk in iter(partial(fileobj.read, buffersize), ''):\n",
    "         buffer += chunk\n",
    "         while buffer:\n",
    "             try:\n",
    "                 result, index = decoder.raw_decode(buffer)\n",
    "                 yield result\n",
    "                 buffer = buffer[index:]\n",
    "             except ValueError:\n",
    "                 # Not enough data to decode, read more\n",
    "                 break"
   ]
  },
  {
   "cell_type": "code",
   "execution_count": 38,
   "metadata": {},
   "outputs": [
    {
     "name": "stdout",
     "output_type": "stream",
     "text": [
      "<generator object stream_read_json at 0x106c27888>\n"
     ]
    }
   ],
   "source": [
    "with open('../GSREvents.json', 'r') as infh:\n",
    "    for data in json_parse(infh):\n",
    "        print (data)\n",
    "\n",
    "# for jsonline in f:\n",
    "#     splitLine = json.loads(jsonline)\n",
    "#     splitFile.extend(splitLine)\n",
    "\n",
    "\n",
    "# for line in f:\n",
    "#     if counter == 0:\n",
    "#         print (line)\n",
    "#         counter = counter + 1;\n",
    "#     splitLine = re.split('},{', line)\n",
    "#     splitFile.extend(splitLine)"
   ]
  },
  {
   "cell_type": "code",
   "execution_count": null,
   "metadata": {
    "collapsed": true
   },
   "outputs": [],
   "source": []
  }
 ],
 "metadata": {
  "kernelspec": {
   "display_name": "Python 3",
   "language": "python",
   "name": "python3"
  },
  "language_info": {
   "codemirror_mode": {
    "name": "ipython",
    "version": 3
   },
   "file_extension": ".py",
   "mimetype": "text/x-python",
   "name": "python",
   "nbconvert_exporter": "python",
   "pygments_lexer": "ipython3",
   "version": "3.5.2"
  }
 },
 "nbformat": 4,
 "nbformat_minor": 2
}
