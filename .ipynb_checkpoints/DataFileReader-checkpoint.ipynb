{
 "cells": [
  {
   "cell_type": "code",
   "execution_count": 1,
   "metadata": {
    "collapsed": true
   },
   "outputs": [],
   "source": [
    "import json\n",
    "import string\n",
    "import re"
   ]
  },
  {
   "cell_type": "code",
   "execution_count": 2,
   "metadata": {
    "collapsed": true
   },
   "outputs": [],
   "source": [
    "f = open('../GSREvents.json', 'r')"
   ]
  },
  {
   "cell_type": "code",
   "execution_count": 6,
   "metadata": {},
   "outputs": [
    {
     "ename": "IndentationError",
     "evalue": "expected an indented block (<ipython-input-6-61b2dcc1631a>, line 5)",
     "output_type": "error",
     "traceback": [
      "\u001b[0;36m  File \u001b[0;32m\"<ipython-input-6-61b2dcc1631a>\"\u001b[0;36m, line \u001b[0;32m5\u001b[0m\n\u001b[0;31m    splitLine = re.split('},{', line)\u001b[0m\n\u001b[0m            ^\u001b[0m\n\u001b[0;31mIndentationError\u001b[0m\u001b[0;31m:\u001b[0m expected an indented block\n"
     ]
    }
   ],
   "source": [
    "splitFile = [];\n",
    "counter = 0\n",
    "for line in f:\n",
    "    if counter == 0:\n",
    "        print (line)\n",
    "        counter = counter + 1;\n",
    "#     splitLine = re.split('},{', line)\n",
    "#     splitFile.extend(splitLine)\n"
   ]
  },
  {
   "cell_type": "code",
   "execution_count": 5,
   "metadata": {},
   "outputs": [
    {
     "name": "stdout",
     "output_type": "stream",
     "text": [
      "{\"downloaded_articles\":{\"http:\\/\\/www.ultimahora.com\\/jovenes-exigen-informacion-sexualidad-n726157.html\":{\"original_text\":\"Estos j\\u00f3venes buscan promocionar y exigir el derecho a la informaci\\u00f3n con el fin de tomar decisiones aut\\u00f3nomas conociendo sus derechos sexuales y reproductivos.\\n\\nEl grupo tiene previsto realizar una marcha, a las 10.00 horas, hasta la sede del Ministerio de Educaci\\u00f3n para entregar un pronunciamiento a la ministra Marta Lafuente, en el que expresar\\u00e1n su preocupaci\\u00f3n por \\\"la falta de informaci\\u00f3n sobre sexualidad, con enfoque de derechos, cient\\u00edfico, integral y laico\\\".\\n\\nTambi\\u00e9n la inquietud por \\\"la escasa formaci\\u00f3n de las y los docentes para abordar estos temas; el aumento de adolescentes embarazadas, que corresponden al 20% del total de embarazos, y en cuanto al VIH, el diagn\\u00f3stico de 6 nuevos casos al mes en j\\u00f3venes de entre 15 a 19 a\\u00f1os\\\", resaltan.\\n\\n\\n\\nTras la marcha hasta el MEC, regresar\\u00e1n a la plaza para continuar con la feria, donde tambi\\u00e9n se presentar\\u00e1n obras teatrales, bailes y actividades dirigidas por ambas organizaciones, seg\\u00fan anunciaron.\",\"original_text_basis_enrichment\":{\"nounPhrases\":[{\"expr\":\"Estos j\\u00f3venes\",\"offset\":\"0:2\"\n"
     ]
    }
   ],
   "source": [
    "print (splitFile[0])"
   ]
  },
  {
   "cell_type": "code",
   "execution_count": null,
   "metadata": {
    "collapsed": true
   },
   "outputs": [],
   "source": []
  }
 ],
 "metadata": {
  "kernelspec": {
   "display_name": "Python 3",
   "language": "python",
   "name": "python3"
  },
  "language_info": {
   "codemirror_mode": {
    "name": "ipython",
    "version": 3
   },
   "file_extension": ".py",
   "mimetype": "text/x-python",
   "name": "python",
   "nbconvert_exporter": "python",
   "pygments_lexer": "ipython3",
   "version": "3.5.2"
  }
 },
 "nbformat": 4,
 "nbformat_minor": 2
}
